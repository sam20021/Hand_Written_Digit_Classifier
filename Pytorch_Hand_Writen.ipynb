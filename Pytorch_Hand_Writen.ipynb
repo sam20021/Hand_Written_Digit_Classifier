{
 "cells": [
  {
   "cell_type": "code",
   "execution_count": 28,
   "id": "a96cb31b-3535-41b9-b7a7-587cac576fc9",
   "metadata": {},
   "outputs": [],
   "source": [
    "import torch\n",
    "import torch.nn as nn\n",
    "import torch.nn.functional as F"
   ]
  },
  {
   "cell_type": "code",
   "execution_count": 30,
   "id": "95fd3f53-2148-4c2f-8416-8de7bdf8cd70",
   "metadata": {},
   "outputs": [],
   "source": [
    "class LeNet(nn.Module):\n",
    "    def __init__(self):\n",
    "        super(LeNet, self).__init__()\n",
    "        self.conv1 = nn.Conv2d(1, 6, kernel_size=5)  # 1 channel (grayscale)\n",
    "        self.conv2 = nn.Conv2d(6, 16, kernel_size=5)\n",
    "        self.fc1 = nn.Linear(16*5*5, 120)  # 16*5*5 is flattened conv2 output\n",
    "        self.fc2 = nn.Linear(120, 84)\n",
    "        self.fc3 = nn.Linear(84, 10)  # 10 output classes for digits 0-9\n",
    "\n",
    "    def forward(self, x):\n",
    "        x = F.relu(self.conv1(x))\n",
    "        x = F.max_pool2d(x, kernel_size=2, stride=2)\n",
    "        x = F.relu(self.conv2(x))\n",
    "        x = F.max_pool2d(x, kernel_size=2, stride=2)\n",
    "        x = x.view(-1, 16*5*5)  # Flatten the tensor\n",
    "        x = F.relu(self.fc1(x))\n",
    "        x = F.relu(self.fc2(x))\n",
    "        x = self.fc3(x)\n",
    "        return x"
   ]
  },
  {
   "cell_type": "code",
   "execution_count": 32,
   "id": "9cc53d6b-ae0c-422d-9d82-8ee77296009e",
   "metadata": {},
   "outputs": [],
   "source": [
    "from torchvision import transforms\n",
    "\n",
    "transform = transforms.Compose([\n",
    "    transforms.Grayscale(),  # Convert to grayscale\n",
    "    transforms.Resize((32, 32)),  # Resize to 32x32\n",
    "    transforms.ToTensor()  # Convert to PyTorch tensor\n",
    "])\n"
   ]
  },
  {
   "cell_type": "code",
   "execution_count": 34,
   "id": "ef4d4ed5-9c29-4587-a014-38c754887289",
   "metadata": {},
   "outputs": [],
   "source": [
    "from torchvision.datasets import ImageFolder\n",
    "from torch.utils.data import DataLoader\n",
    "\n",
    "# Load the dataset\n",
    "train_data = ImageFolder(root=r'C:\\\\Users\\\\swaya\\Desktop\\\\Hand_Written', transform=transform)\n",
    "test_data = ImageFolder(root=r'C:\\\\Users\\\\swaya\\\\Desktop\\\\Hand_Written', transform=transform)\n",
    "\n",
    "# Create DataLoaders\n",
    "train_loader = DataLoader(train_data, batch_size=64, shuffle=True)\n",
    "test_loader = DataLoader(test_data, batch_size=64, shuffle=False)"
   ]
  },
  {
   "cell_type": "code",
   "execution_count": 36,
   "id": "2c85c0b2-18be-40bd-bd70-77b45f8f7675",
   "metadata": {},
   "outputs": [
    {
     "name": "stdout",
     "output_type": "stream",
     "text": [
      "Epoch [1/10], Loss: 2.238250970840454\n",
      "Epoch [2/10], Loss: 2.2093567848205566\n",
      "Epoch [3/10], Loss: 2.1767418384552\n",
      "Epoch [4/10], Loss: 2.1419761180877686\n",
      "Epoch [5/10], Loss: 2.100572109222412\n",
      "Epoch [6/10], Loss: 2.0454823970794678\n",
      "Epoch [7/10], Loss: 1.9768003225326538\n",
      "Epoch [8/10], Loss: 1.8892549276351929\n",
      "Epoch [9/10], Loss: 1.778083086013794\n",
      "Epoch [10/10], Loss: 1.6382476091384888\n"
     ]
    }
   ],
   "source": [
    "import torch.optim as optim\n",
    "\n",
    "device = torch.device('cuda' if torch.cuda.is_available() else 'cpu')\n",
    "model = LeNet().to(device)\n",
    "criterion = nn.CrossEntropyLoss()\n",
    "optimizer = optim.Adam(model.parameters(), lr=0.001)\n",
    "\n",
    "# Training loop\n",
    "num_epochs = 10\n",
    "for epoch in range(num_epochs):\n",
    "    model.train()\n",
    "    running_loss = 0.0\n",
    "    for images, labels in train_loader:\n",
    "        images, labels = images.to(device), labels.to(device)\n",
    "        \n",
    "        optimizer.zero_grad()\n",
    "        outputs = model(images)\n",
    "        loss = criterion(outputs, labels)\n",
    "        loss.backward()\n",
    "        optimizer.step()\n",
    "\n",
    "        running_loss += loss.item()\n",
    "    \n",
    "    print(f\"Epoch [{epoch+1}/{num_epochs}], Loss: {running_loss/len(train_loader)}\")\n"
   ]
  },
  {
   "cell_type": "code",
   "execution_count": 38,
   "id": "de939087-d3c4-47b5-a191-730094fb795a",
   "metadata": {},
   "outputs": [
    {
     "name": "stdout",
     "output_type": "stream",
     "text": [
      "Digit 0: 2 predictions\n",
      "Digit 1: 0 predictions\n",
      "Digit 2: 0 predictions\n",
      "Digit 3: 0 predictions\n",
      "Digit 4: 0 predictions\n",
      "Digit 5: 0 predictions\n",
      "Digit 6: 0 predictions\n",
      "Digit 7: 0 predictions\n",
      "Digit 8: 0 predictions\n",
      "Digit 9: 0 predictions\n"
     ]
    }
   ],
   "source": [
    "model.eval()\n",
    "digit_counts = [0] * 10  # Initialize a list to count predictions for digits 0-9\n",
    "\n",
    "with torch.no_grad():\n",
    "    for images, labels in test_loader:\n",
    "        images, labels = images.to(device), labels.to(device)\n",
    "        outputs = model(images)\n",
    "        _, predicted = torch.max(outputs.data, 1)\n",
    "\n",
    "        # Count predictions for each digit\n",
    "        for prediction in predicted:\n",
    "            digit_counts[prediction.item()] += 1\n",
    "\n",
    "# Display the results\n",
    "for digit, count in enumerate(digit_counts):\n",
    "    print(f\"Digit {digit}: {count} predictions\")\n",
    "\n"
   ]
  },
  {
   "cell_type": "code",
   "execution_count": null,
   "id": "81fafcaf-8496-48c3-af65-a0fdd10e7c94",
   "metadata": {},
   "outputs": [],
   "source": []
  }
 ],
 "metadata": {
  "kernelspec": {
   "display_name": "Python 3 (ipykernel)",
   "language": "python",
   "name": "python3"
  },
  "language_info": {
   "codemirror_mode": {
    "name": "ipython",
    "version": 3
   },
   "file_extension": ".py",
   "mimetype": "text/x-python",
   "name": "python",
   "nbconvert_exporter": "python",
   "pygments_lexer": "ipython3",
   "version": "3.12.4"
  }
 },
 "nbformat": 4,
 "nbformat_minor": 5
}
